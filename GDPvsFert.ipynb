{
 "cells": [
  {
   "cell_type": "code",
   "execution_count": null,
   "id": "85119261",
   "metadata": {},
   "outputs": [],
   "source": [
    "import pandas as pd\n",
    "import matplotlib.pyplot as plt"
   ]
  },
  {
   "cell_type": "code",
   "execution_count": null,
   "id": "8dcdea6a",
   "metadata": {},
   "outputs": [],
   "source": [
    "gdp = pd.read_csv(\"gdp.csv\",skiprows=4)\n",
    "pov = pd.read_csv(\"poverty.csv\",skiprows=4)\n",
    "gini = pd.read_csv(\"gini.csv\",skiprows=4)\n",
    "fertility = pd.read_csv(\"fertility.csv\",skiprows=4)"
   ]
  },
  {
   "cell_type": "code",
   "execution_count": null,
   "id": "b7fed755",
   "metadata": {},
   "outputs": [],
   "source": [
    "gdp.head()"
   ]
  },
  {
   "cell_type": "code",
   "execution_count": null,
   "id": "1e2cfd2c",
   "metadata": {},
   "outputs": [],
   "source": [
    "pov.head()"
   ]
  },
  {
   "cell_type": "code",
   "execution_count": null,
   "id": "429aa59c",
   "metadata": {},
   "outputs": [],
   "source": [
    "gini.head()"
   ]
  },
  {
   "cell_type": "code",
   "execution_count": null,
   "id": "09875285",
   "metadata": {},
   "outputs": [],
   "source": [
    "fertility.head()"
   ]
  },
  {
   "cell_type": "code",
   "execution_count": null,
   "id": "8c340fa2",
   "metadata": {},
   "outputs": [],
   "source": [
    "len(gdp)"
   ]
  },
  {
   "cell_type": "code",
   "execution_count": null,
   "id": "4e1dd5f1",
   "metadata": {},
   "outputs": [],
   "source": [
    "for c in gdp:\n",
    "    print(c,':',gdp[c].isna().sum(),pov[c].isna().sum(),gini[c].isna().sum(),fertility[c].isna().sum())\n",
    "#This indicates that the gini and poverty analyses would be unreliable."
   ]
  },
  {
   "cell_type": "code",
   "execution_count": null,
   "id": "65760c66",
   "metadata": {},
   "outputs": [],
   "source": [
    "gdp.drop(['Country Code','Indicator Name','Indicator Code'],axis=1,inplace=True)\n",
    "fertility.drop(['Country Code','Indicator Name','Indicator Code'],axis=1,inplace=True)"
   ]
  },
  {
   "cell_type": "code",
   "execution_count": null,
   "id": "ffeb0890",
   "metadata": {},
   "outputs": [],
   "source": [
    "gdp=gdp.iloc[:,:-1]\n",
    "gdp"
   ]
  },
  {
   "cell_type": "code",
   "execution_count": null,
   "id": "49dd75d6",
   "metadata": {},
   "outputs": [],
   "source": [
    "fertility=fertility.iloc[:,:-1]\n",
    "fertility"
   ]
  },
  {
   "cell_type": "code",
   "execution_count": null,
   "id": "8aac046e",
   "metadata": {},
   "outputs": [],
   "source": [
    "#Doing this to make countries as the columns and the years as the indices\n",
    "fert_melt = fertility.melt(id_vars='Country Name',var_name='Year',value_name='value')\n",
    "fert_piv = fert_melt.pivot(index='Year',columns='Country Name',values='value')\n",
    "gdp_melt = gdp.melt(id_vars='Country Name',var_name='Year',value_name='value')\n",
    "gdp_piv = gdp_melt.pivot(index='Year',columns='Country Name',values='value')"
   ]
  },
  {
   "cell_type": "code",
   "execution_count": null,
   "id": "8e26d061",
   "metadata": {},
   "outputs": [],
   "source": [
    "\n",
    "fert_piv"
   ]
  },
  {
   "cell_type": "code",
   "execution_count": null,
   "id": "da2c15da",
   "metadata": {},
   "outputs": [],
   "source": [
    "gdp_piv"
   ]
  },
  {
   "cell_type": "code",
   "execution_count": null,
   "id": "668cfd12",
   "metadata": {
    "scrolled": false
   },
   "outputs": [],
   "source": [
    "#Plotting GDP vs Fertility Rates for every country over the years\n",
    "for c in gdp_piv:\n",
    "    fig, ax1 = plt.subplots(figsize=[20, 20])\n",
    "\n",
    "    ax1.plot(gdp_piv.index, gdp_piv[c], color='blue', label='GDP')\n",
    "    ax1.set_xlabel('Year')\n",
    "    ax1.set_ylabel('GDP', color='blue')\n",
    "    ax1.tick_params(axis='y', labelcolor='blue')\n",
    "\n",
    "    ax2 = ax1.twinx()\n",
    "    ax2.plot(fert_piv.index, fert_piv[c], color='red', label='Fertility')\n",
    "    ax2.set_ylabel('Fertility Rate', color='red')\n",
    "    ax2.tick_params(axis='y', labelcolor='red')\n",
    "\n",
    "    fig.autofmt_xdate()  # Automatically formats x-axis labels\n",
    "\n",
    "    plt.title('GDP and Fertility Rate for '+c)\n",
    "    ax1.legend(loc='upper left')\n",
    "    ax2.legend(loc='upper right')\n",
    "\n",
    "    plt.show()"
   ]
  },
  {
   "cell_type": "code",
   "execution_count": null,
   "id": "194a9883",
   "metadata": {},
   "outputs": [],
   "source": []
  }
 ],
 "metadata": {
  "kernelspec": {
   "display_name": "Python 3 (ipykernel)",
   "language": "python",
   "name": "python3"
  },
  "language_info": {
   "codemirror_mode": {
    "name": "ipython",
    "version": 3
   },
   "file_extension": ".py",
   "mimetype": "text/x-python",
   "name": "python",
   "nbconvert_exporter": "python",
   "pygments_lexer": "ipython3",
   "version": "3.11.5"
  }
 },
 "nbformat": 4,
 "nbformat_minor": 5
}
